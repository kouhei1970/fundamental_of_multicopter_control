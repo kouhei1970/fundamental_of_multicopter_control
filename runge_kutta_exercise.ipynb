{
 "cells": [
  {
   "cell_type": "code",
   "execution_count": 2,
   "id": "0442677c-26b5-44c5-9d51-05416ddf066f",
   "metadata": {},
   "outputs": [
    {
     "data": {
      "image/png": "[encoded data removed]",
      "text/plain": [
       "<Figure size 432x288 with 1 Axes>"
      ]
     },
     "metadata": {
      "needs_background": "light"
     },
     "output_type": "display_data"
    }
   ],
   "source": [
    "import matplotlib.pyplot as plt\n",
    "\n",
    "def rk4(func, t, h, x, *p):\n",
    "    k1=h*func(t, x, *p)\n",
    "    k2=h*func(t+0.5*h, x+0.5*k1, *p)\n",
    "    k3=h*func(t+0.5*h, x+0.5*k2, *p) \n",
    "    k4=h*func(t+h, x+k3, *p)\n",
    "    x=x+(k1 + 2*k2 + 2*k3 + k4)/6\n",
    "    return x\n",
    "\n",
    "def xdot(t,x,u):\n",
    "    a=-10\n",
    "    b=1\n",
    "    return a*x+b*u\n",
    "\n",
    "#ここからメイン\n",
    "h=0.01\n",
    "t=0\n",
    "x=0\n",
    "u=1\n",
    "fintime=1\n",
    "T=[]\n",
    "X=[]\n",
    "for _ in range(int(fintime/h)):\n",
    "    x=rk4(xdot,t,h,x,u)\n",
    "    t=t+h\n",
    "    T.append(t)\n",
    "    X.append(x)\n",
    "    \n",
    "plt.plot(T,X)\n",
    "plt.show()"
   ]
  },
  {
   "cell_type": "code",
   "execution_count": null,
   "id": "ab7dc1ae-4a43-4324-b10e-f739df9f4082",
   "metadata": {},
   "outputs": [],
   "source": []
  }
 ],
 "metadata": {
  "kernelspec": {
   "display_name": "Python 3 (ipykernel)",
   "language": "python",
   "name": "python3"
  },
  "language_info": {
   "codemirror_mode": {
    "name": "ipython",
    "version": 3
   },
   "file_extension": ".py",
   "mimetype": "text/x-python",
   "name": "python",
   "nbconvert_exporter": "python",
   "pygments_lexer": "ipython3",
   "version": "3.8.10"
  }
 },
 "nbformat": 4,
 "nbformat_minor": 5
}

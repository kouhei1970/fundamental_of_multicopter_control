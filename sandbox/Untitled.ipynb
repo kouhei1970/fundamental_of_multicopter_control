{
 "cells": [
  {
   "cell_type": "code",
   "execution_count": 1,
   "id": "bef9872d-7a4c-427f-a7f0-08fc51abaa5b",
   "metadata": {},
   "outputs": [],
   "source": [
    "import control.matlab as matlab\n",
    "import matplotlib.pyplot as plt\n",
    "import numpy as np"
   ]
  },
  {
   "cell_type": "code",
   "execution_count": 36,
   "id": "1291eff8-b375-450c-9954-c003a156bdf1",
   "metadata": {},
   "outputs": [],
   "source": [
    "w=np.logspace(-2,1,1000)\n",
    "g=1/(1j*w)/((1j*w)**2+1.2*(1j*w)+1)\n",
    "x=g.real\n",
    "y=g.imag\n",
    "\n"
   ]
  },
  {
   "cell_type": "code",
   "execution_count": 37,
   "id": "24905def-a5d4-4eef-a1b6-35e3ba4ea045",
   "metadata": {},
   "outputs": [
    {
     "data": {
      "image/png": "[encoded data removed]",
      "text/plain": [
       "<Figure size 432x288 with 1 Axes>"
      ]
     },
     "metadata": {
      "needs_background": "light"
     },
     "output_type": "display_data"
    }
   ],
   "source": [
    "plt.plot(x, y)\n",
    "plt.grid()\n",
    "plt.show()\n"
   ]
  },
  {
   "cell_type": "code",
   "execution_count": 20,
   "id": "c5ebfda0-f09d-4842-91af-1619176cd10a",
   "metadata": {},
   "outputs": [
    {
     "data": {
      "text/plain": [
       "0.012"
      ]
     },
     "execution_count": 20,
     "metadata": {},
     "output_type": "execute_result"
    }
   ],
   "source": [
    "1.2*0.01"
   ]
  },
  {
   "cell_type": "code",
   "execution_count": 21,
   "id": "c040e6a9-ac3e-45ed-b13e-c0f983d4ee7d",
   "metadata": {},
   "outputs": [
    {
     "data": {
      "text/plain": [
       "0.9999"
      ]
     },
     "execution_count": 21,
     "metadata": {},
     "output_type": "execute_result"
    }
   ],
   "source": [
    "1-0.01**2"
   ]
  },
  {
   "cell_type": "code",
   "execution_count": null,
   "id": "8ecad05e-12af-45bd-85ae-1afc356c065b",
   "metadata": {},
   "outputs": [],
   "source": []
  }
 ],
 "metadata": {
  "kernelspec": {
   "display_name": "Python 3 (ipykernel)",
   "language": "python",
   "name": "python3"
  },
  "language_info": {
   "codemirror_mode": {
    "name": "ipython",
    "version": 3
   },
   "file_extension": ".py",
   "mimetype": "text/x-python",
   "name": "python",
   "nbconvert_exporter": "python",
   "pygments_lexer": "ipython3",
   "version": "3.8.10"
  }
 },
 "nbformat": 4,
 "nbformat_minor": 5
}
